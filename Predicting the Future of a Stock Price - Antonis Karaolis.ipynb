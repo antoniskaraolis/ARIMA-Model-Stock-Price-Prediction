{
 "cells": [
  {
   "cell_type": "markdown",
   "id": "6a5b5642",
   "metadata": {},
   "source": [
    "# Predicting the future of a stock price\n",
    "### Antonis Karaolis"
   ]
  },
  {
   "cell_type": "code",
   "execution_count": 1,
   "id": "48dc5da1",
   "metadata": {},
   "outputs": [],
   "source": [
    "import numpy as np \n",
    "import pandas as pd \n",
    "import matplotlib.pyplot as plt\n",
    "from pandas.plotting import lag_plot\n",
    "from statsmodels.tsa.arima.model import ARIMA\n",
    "from sklearn.metrics import mean_squared_error"
   ]
  },
  {
   "cell_type": "code",
   "execution_count": 2,
   "id": "7571ebb1",
   "metadata": {},
   "outputs": [
    {
     "data": {
      "text/html": [
       "<div>\n",
       "<style scoped>\n",
       "    .dataframe tbody tr th:only-of-type {\n",
       "        vertical-align: middle;\n",
       "    }\n",
       "\n",
       "    .dataframe tbody tr th {\n",
       "        vertical-align: top;\n",
       "    }\n",
       "\n",
       "    .dataframe thead th {\n",
       "        text-align: right;\n",
       "    }\n",
       "</style>\n",
       "<table border=\"1\" class=\"dataframe\">\n",
       "  <thead>\n",
       "    <tr style=\"text-align: right;\">\n",
       "      <th></th>\n",
       "      <th>Date</th>\n",
       "      <th>Open</th>\n",
       "      <th>High</th>\n",
       "      <th>Low</th>\n",
       "      <th>Close</th>\n",
       "      <th>Adj Close</th>\n",
       "      <th>Volume</th>\n",
       "    </tr>\n",
       "  </thead>\n",
       "  <tbody>\n",
       "    <tr>\n",
       "      <th>0</th>\n",
       "      <td>2013-04-01</td>\n",
       "      <td>28.639999</td>\n",
       "      <td>28.660000</td>\n",
       "      <td>28.360001</td>\n",
       "      <td>28.610001</td>\n",
       "      <td>23.726900</td>\n",
       "      <td>29201100</td>\n",
       "    </tr>\n",
       "    <tr>\n",
       "      <th>1</th>\n",
       "      <td>2013-04-02</td>\n",
       "      <td>28.590000</td>\n",
       "      <td>28.850000</td>\n",
       "      <td>28.520000</td>\n",
       "      <td>28.799999</td>\n",
       "      <td>23.884474</td>\n",
       "      <td>28456500</td>\n",
       "    </tr>\n",
       "    <tr>\n",
       "      <th>2</th>\n",
       "      <td>2013-04-03</td>\n",
       "      <td>28.750000</td>\n",
       "      <td>28.950001</td>\n",
       "      <td>28.540001</td>\n",
       "      <td>28.559999</td>\n",
       "      <td>23.685434</td>\n",
       "      <td>35062800</td>\n",
       "    </tr>\n",
       "    <tr>\n",
       "      <th>3</th>\n",
       "      <td>2013-04-04</td>\n",
       "      <td>28.389999</td>\n",
       "      <td>28.610001</td>\n",
       "      <td>28.270000</td>\n",
       "      <td>28.600000</td>\n",
       "      <td>23.718605</td>\n",
       "      <td>45263200</td>\n",
       "    </tr>\n",
       "    <tr>\n",
       "      <th>4</th>\n",
       "      <td>2013-04-05</td>\n",
       "      <td>28.219999</td>\n",
       "      <td>28.780001</td>\n",
       "      <td>28.110001</td>\n",
       "      <td>28.700001</td>\n",
       "      <td>23.801537</td>\n",
       "      <td>50927300</td>\n",
       "    </tr>\n",
       "    <tr>\n",
       "      <th>...</th>\n",
       "      <td>...</td>\n",
       "      <td>...</td>\n",
       "      <td>...</td>\n",
       "      <td>...</td>\n",
       "      <td>...</td>\n",
       "      <td>...</td>\n",
       "      <td>...</td>\n",
       "    </tr>\n",
       "    <tr>\n",
       "      <th>2514</th>\n",
       "      <td>2023-03-24</td>\n",
       "      <td>277.239990</td>\n",
       "      <td>280.630005</td>\n",
       "      <td>275.279999</td>\n",
       "      <td>280.570007</td>\n",
       "      <td>280.570007</td>\n",
       "      <td>28172000</td>\n",
       "    </tr>\n",
       "    <tr>\n",
       "      <th>2515</th>\n",
       "      <td>2023-03-27</td>\n",
       "      <td>280.500000</td>\n",
       "      <td>281.459991</td>\n",
       "      <td>275.519989</td>\n",
       "      <td>276.380005</td>\n",
       "      <td>276.380005</td>\n",
       "      <td>26840200</td>\n",
       "    </tr>\n",
       "    <tr>\n",
       "      <th>2516</th>\n",
       "      <td>2023-03-28</td>\n",
       "      <td>275.790009</td>\n",
       "      <td>276.140015</td>\n",
       "      <td>272.049988</td>\n",
       "      <td>275.230011</td>\n",
       "      <td>275.230011</td>\n",
       "      <td>21878600</td>\n",
       "    </tr>\n",
       "    <tr>\n",
       "      <th>2517</th>\n",
       "      <td>2023-03-29</td>\n",
       "      <td>278.959991</td>\n",
       "      <td>281.140015</td>\n",
       "      <td>278.410004</td>\n",
       "      <td>280.510010</td>\n",
       "      <td>280.510010</td>\n",
       "      <td>25087000</td>\n",
       "    </tr>\n",
       "    <tr>\n",
       "      <th>2518</th>\n",
       "      <td>2023-03-30</td>\n",
       "      <td>284.230011</td>\n",
       "      <td>284.459991</td>\n",
       "      <td>281.480011</td>\n",
       "      <td>284.049988</td>\n",
       "      <td>284.049988</td>\n",
       "      <td>25053400</td>\n",
       "    </tr>\n",
       "  </tbody>\n",
       "</table>\n",
       "<p>2519 rows × 7 columns</p>\n",
       "</div>"
      ],
      "text/plain": [
       "            Date        Open        High         Low       Close   Adj Close  \\\n",
       "0     2013-04-01   28.639999   28.660000   28.360001   28.610001   23.726900   \n",
       "1     2013-04-02   28.590000   28.850000   28.520000   28.799999   23.884474   \n",
       "2     2013-04-03   28.750000   28.950001   28.540001   28.559999   23.685434   \n",
       "3     2013-04-04   28.389999   28.610001   28.270000   28.600000   23.718605   \n",
       "4     2013-04-05   28.219999   28.780001   28.110001   28.700001   23.801537   \n",
       "...          ...         ...         ...         ...         ...         ...   \n",
       "2514  2023-03-24  277.239990  280.630005  275.279999  280.570007  280.570007   \n",
       "2515  2023-03-27  280.500000  281.459991  275.519989  276.380005  276.380005   \n",
       "2516  2023-03-28  275.790009  276.140015  272.049988  275.230011  275.230011   \n",
       "2517  2023-03-29  278.959991  281.140015  278.410004  280.510010  280.510010   \n",
       "2518  2023-03-30  284.230011  284.459991  281.480011  284.049988  284.049988   \n",
       "\n",
       "        Volume  \n",
       "0     29201100  \n",
       "1     28456500  \n",
       "2     35062800  \n",
       "3     45263200  \n",
       "4     50927300  \n",
       "...        ...  \n",
       "2514  28172000  \n",
       "2515  26840200  \n",
       "2516  21878600  \n",
       "2517  25087000  \n",
       "2518  25053400  \n",
       "\n",
       "[2519 rows x 7 columns]"
      ]
     },
     "execution_count": 2,
     "metadata": {},
     "output_type": "execute_result"
    }
   ],
   "source": [
    "df = pd.read_csv('MSFT.csv')\n",
    "df"
   ]
  },
  {
   "cell_type": "code",
   "execution_count": 3,
   "id": "66552537",
   "metadata": {},
   "outputs": [
    {
     "name": "stdout",
     "output_type": "stream",
     "text": [
      "<class 'pandas.core.frame.DataFrame'>\n",
      "RangeIndex: 2519 entries, 0 to 2518\n",
      "Data columns (total 7 columns):\n",
      " #   Column     Non-Null Count  Dtype  \n",
      "---  ------     --------------  -----  \n",
      " 0   Date       2519 non-null   object \n",
      " 1   Open       2519 non-null   float64\n",
      " 2   High       2519 non-null   float64\n",
      " 3   Low        2519 non-null   float64\n",
      " 4   Close      2519 non-null   float64\n",
      " 5   Adj Close  2519 non-null   float64\n",
      " 6   Volume     2519 non-null   int64  \n",
      "dtypes: float64(5), int64(1), object(1)\n",
      "memory usage: 137.9+ KB\n"
     ]
    }
   ],
   "source": [
    "df.info()"
   ]
  },
  {
   "cell_type": "code",
   "execution_count": 4,
   "id": "e74ca27d",
   "metadata": {},
   "outputs": [
    {
     "data": {
      "text/html": [
       "<div>\n",
       "<style scoped>\n",
       "    .dataframe tbody tr th:only-of-type {\n",
       "        vertical-align: middle;\n",
       "    }\n",
       "\n",
       "    .dataframe tbody tr th {\n",
       "        vertical-align: top;\n",
       "    }\n",
       "\n",
       "    .dataframe thead th {\n",
       "        text-align: right;\n",
       "    }\n",
       "</style>\n",
       "<table border=\"1\" class=\"dataframe\">\n",
       "  <thead>\n",
       "    <tr style=\"text-align: right;\">\n",
       "      <th></th>\n",
       "      <th>Open</th>\n",
       "      <th>High</th>\n",
       "      <th>Low</th>\n",
       "      <th>Close</th>\n",
       "      <th>Adj Close</th>\n",
       "      <th>Volume</th>\n",
       "    </tr>\n",
       "  </thead>\n",
       "  <tbody>\n",
       "    <tr>\n",
       "      <th>count</th>\n",
       "      <td>2519.000000</td>\n",
       "      <td>2519.000000</td>\n",
       "      <td>2519.000000</td>\n",
       "      <td>2519.000000</td>\n",
       "      <td>2519.000000</td>\n",
       "      <td>2.519000e+03</td>\n",
       "    </tr>\n",
       "    <tr>\n",
       "      <th>mean</th>\n",
       "      <td>127.230873</td>\n",
       "      <td>128.517713</td>\n",
       "      <td>125.897130</td>\n",
       "      <td>127.274208</td>\n",
       "      <td>122.587496</td>\n",
       "      <td>3.192936e+07</td>\n",
       "    </tr>\n",
       "    <tr>\n",
       "      <th>std</th>\n",
       "      <td>90.895959</td>\n",
       "      <td>91.905570</td>\n",
       "      <td>89.820422</td>\n",
       "      <td>90.907226</td>\n",
       "      <td>91.833106</td>\n",
       "      <td>1.661098e+07</td>\n",
       "    </tr>\n",
       "    <tr>\n",
       "      <th>min</th>\n",
       "      <td>28.219999</td>\n",
       "      <td>28.610001</td>\n",
       "      <td>28.110001</td>\n",
       "      <td>28.559999</td>\n",
       "      <td>23.685434</td>\n",
       "      <td>7.425600e+06</td>\n",
       "    </tr>\n",
       "    <tr>\n",
       "      <th>25%</th>\n",
       "      <td>48.424999</td>\n",
       "      <td>48.875000</td>\n",
       "      <td>48.035000</td>\n",
       "      <td>48.440000</td>\n",
       "      <td>42.288302</td>\n",
       "      <td>2.236540e+07</td>\n",
       "    </tr>\n",
       "    <tr>\n",
       "      <th>50%</th>\n",
       "      <td>93.750000</td>\n",
       "      <td>94.930000</td>\n",
       "      <td>92.830002</td>\n",
       "      <td>93.849998</td>\n",
       "      <td>88.497749</td>\n",
       "      <td>2.807900e+07</td>\n",
       "    </tr>\n",
       "    <tr>\n",
       "      <th>75%</th>\n",
       "      <td>212.184998</td>\n",
       "      <td>214.705001</td>\n",
       "      <td>209.824997</td>\n",
       "      <td>212.334999</td>\n",
       "      <td>207.551209</td>\n",
       "      <td>3.629040e+07</td>\n",
       "    </tr>\n",
       "    <tr>\n",
       "      <th>max</th>\n",
       "      <td>344.619995</td>\n",
       "      <td>349.670013</td>\n",
       "      <td>342.200012</td>\n",
       "      <td>343.109985</td>\n",
       "      <td>339.075531</td>\n",
       "      <td>2.484285e+08</td>\n",
       "    </tr>\n",
       "  </tbody>\n",
       "</table>\n",
       "</div>"
      ],
      "text/plain": [
       "              Open         High          Low        Close    Adj Close  \\\n",
       "count  2519.000000  2519.000000  2519.000000  2519.000000  2519.000000   \n",
       "mean    127.230873   128.517713   125.897130   127.274208   122.587496   \n",
       "std      90.895959    91.905570    89.820422    90.907226    91.833106   \n",
       "min      28.219999    28.610001    28.110001    28.559999    23.685434   \n",
       "25%      48.424999    48.875000    48.035000    48.440000    42.288302   \n",
       "50%      93.750000    94.930000    92.830002    93.849998    88.497749   \n",
       "75%     212.184998   214.705001   209.824997   212.334999   207.551209   \n",
       "max     344.619995   349.670013   342.200012   343.109985   339.075531   \n",
       "\n",
       "             Volume  \n",
       "count  2.519000e+03  \n",
       "mean   3.192936e+07  \n",
       "std    1.661098e+07  \n",
       "min    7.425600e+06  \n",
       "25%    2.236540e+07  \n",
       "50%    2.807900e+07  \n",
       "75%    3.629040e+07  \n",
       "max    2.484285e+08  "
      ]
     },
     "execution_count": 4,
     "metadata": {},
     "output_type": "execute_result"
    }
   ],
   "source": [
    "df.describe()"
   ]
  },
  {
   "cell_type": "code",
   "execution_count": 5,
   "id": "fa2b2b27",
   "metadata": {},
   "outputs": [
    {
     "data": {
      "image/png": "[encoded data removed]",
      "text/plain": [
       "<Figure size 432x288 with 1 Axes>"
      ]
     },
     "metadata": {
      "needs_background": "light"
     },
     "output_type": "display_data"
    }
   ],
   "source": [
    "plt.figure()\n",
    "lag_plot(df['Close'], lag=3)\n",
    "plt.title('Microsoft Stock - Autocorrelation plot with lag = 3')\n",
    "plt.show()"
   ]
  },
  {
   "cell_type": "code",
   "execution_count": 6,
   "id": "51cc0552",
   "metadata": {},
   "outputs": [
    {
     "data": {
      "image/png": "[encoded data removed]",
      "text/plain": [
       "<Figure size 432x288 with 1 Axes>"
      ]
     },
     "metadata": {
      "needs_background": "light"
     },
     "output_type": "display_data"
    }
   ],
   "source": [
    "plt.plot(df[\"Date\"], df[\"Close\"])\n",
    "plt.xticks(np.arange(0,2500, 600), df['Date'][0:2500:600])\n",
    "plt.title(\"Microsoft stock price over time\")\n",
    "plt.xlabel(\"time\")\n",
    "plt.ylabel(\"price\")\n",
    "plt.show()"
   ]
  },
  {
   "cell_type": "code",
   "execution_count": 7,
   "id": "8ab43e7b",
   "metadata": {},
   "outputs": [
    {
     "name": "stdout",
     "output_type": "stream",
     "text": [
      "Testing Mean Squared Error is 32.48513542012387\n"
     ]
    }
   ],
   "source": [
    "train_data, test_data = df[0:int(len(df)*0.9)], df[int(len(df)*0.9):]\n",
    "training_data = train_data['Close'].values\n",
    "test_data = test_data['Close'].values\n",
    "history = [x for x in training_data]\n",
    "model_predictions = []\n",
    "N_test_observations = len(test_data)\n",
    "for time_point in range(N_test_observations):\n",
    "    model = ARIMA(history, order=(4,1,0))\n",
    "    model_fit = model.fit()\n",
    "    output = model_fit.forecast()\n",
    "    yhat = output[0]\n",
    "    model_predictions.append(yhat)\n",
    "    true_test_value = test_data[time_point]\n",
    "    history.append(true_test_value)\n",
    "MSE_error = mean_squared_error(test_data, model_predictions)\n",
    "print('Testing Mean Squared Error is {}'.format(MSE_error))"
   ]
  },
  {
   "cell_type": "code",
   "execution_count": 8,
   "id": "cf00bf35",
   "metadata": {},
   "outputs": [
    {
     "name": "stdout",
     "output_type": "stream",
     "text": [
      "                               SARIMAX Results                                \n",
      "==============================================================================\n",
      "Dep. Variable:                      y   No. Observations:                 2518\n",
      "Model:                 ARIMA(4, 1, 0)   Log Likelihood               -6246.531\n",
      "Date:                Mon, 15 May 2023   AIC                          12503.062\n",
      "Time:                        12:12:46   BIC                          12532.216\n",
      "Sample:                             0   HQIC                         12513.642\n",
      "                               - 2518                                         \n",
      "Covariance Type:                  opg                                         \n",
      "==============================================================================\n",
      "                 coef    std err          z      P>|z|      [0.025      0.975]\n",
      "------------------------------------------------------------------------------\n",
      "ar.L1         -0.1075      0.010    -10.638      0.000      -0.127      -0.088\n",
      "ar.L2         -0.0178      0.010     -1.738      0.082      -0.038       0.002\n",
      "ar.L3         -0.0353      0.011     -3.130      0.002      -0.057      -0.013\n",
      "ar.L4         -0.0092      0.011     -0.831      0.406      -0.031       0.012\n",
      "sigma2         8.3778      0.109     77.091      0.000       8.165       8.591\n",
      "===================================================================================\n",
      "Ljung-Box (L1) (Q):                   0.00   Jarque-Bera (JB):              7302.64\n",
      "Prob(Q):                              0.94   Prob(JB):                         0.00\n",
      "Heteroskedasticity (H):              45.96   Skew:                            -0.31\n",
      "Prob(H) (two-sided):                  0.00   Kurtosis:                        11.32\n",
      "===================================================================================\n",
      "\n",
      "Warnings:\n",
      "[1] Covariance matrix calculated using the outer product of gradients (complex-step).\n"
     ]
    }
   ],
   "source": [
    "print(model_fit.summary())"
   ]
  },
  {
   "cell_type": "code",
   "execution_count": 9,
   "id": "71880261",
   "metadata": {},
   "outputs": [
    {
     "data": {
      "image/png": "[encoded data removed]",
      "text/plain": [
       "<Figure size 720x432 with 1 Axes>"
      ]
     },
     "metadata": {
      "needs_background": "light"
     },
     "output_type": "display_data"
    }
   ],
   "source": [
    "import matplotlib.dates as mdates\n",
    "\n",
    "df['Date'] = pd.to_datetime(df['Date'])\n",
    "df.set_index('Date', inplace=True)\n",
    "\n",
    "test_set_range = df[int(len(df)*0.9):].index\n",
    "\n",
    "fig, ax = plt.subplots(figsize=(10,6))\n",
    "fig.autofmt_xdate()\n",
    "ax.xaxis.set_major_formatter(mdates.DateFormatter('%Y-%m-%d'))\n",
    "\n",
    "ax.plot(test_set_range, model_predictions, color='blue', marker='o', linestyle='dashed',label='Predicted Price')\n",
    "ax.plot(test_set_range, test_data, color='red', label='Actual Price')\n",
    "\n",
    "ax.set_title('Microsoft Prices Prediction')\n",
    "ax.set_xlabel('Date')\n",
    "ax.set_ylabel('Prices')\n",
    "ax.legend()\n",
    "\n",
    "plt.show()"
   ]
  }
 ],
 "metadata": {
  "kernelspec": {
   "display_name": "Python 3 (ipykernel)",
   "language": "python",
   "name": "python3"
  },
  "language_info": {
   "codemirror_mode": {
    "name": "ipython",
    "version": 3
   },
   "file_extension": ".py",
   "mimetype": "text/x-python",
   "name": "python",
   "nbconvert_exporter": "python",
   "pygments_lexer": "ipython3",
   "version": "3.9.12"
  }
 },
 "nbformat": 4,
 "nbformat_minor": 5
}
